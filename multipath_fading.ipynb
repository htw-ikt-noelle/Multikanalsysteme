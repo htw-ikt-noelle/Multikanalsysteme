{
 "cells": [
  {
   "cell_type": "markdown",
   "metadata": {},
   "source": [
    "# Demonstration of multipath fading"
   ]
  },
  {
   "cell_type": "markdown",
   "metadata": {},
   "source": [
    "This demo is supposed to shed some light on the principles of [digital modulatio techniquies](https://en.wikipedia.org/wiki/Modulation#Digital_modulation_methods). \n",
    "\n",
    "This demo is written by [Markus Nölle](https://www.htw-berlin.de/hochschule/personen/person/?eid=9586) for a basic course on [communications engineering](https://en.wikipedia.org/wiki/Telecommunications_engineering) hold at the [university of applied siences, Berlin](https://www.htw-berlin.de/)."
   ]
  },
  {
   "cell_type": "markdown",
   "metadata": {},
   "source": [
    "## Import libraries and set defaults"
   ]
  },
  {
   "cell_type": "code",
   "execution_count": 1,
   "metadata": {},
   "outputs": [],
   "source": [
    "import numpy as np\n",
    "import scipy.signal as signal\n",
    "import matplotlib.pyplot as plt\n",
    "import ipywidgets as widgets\n",
    "from mpl_toolkits.axes_grid1.inset_locator import inset_axes\n",
    "\n",
    "plt.style.use('noelle.mplstyle')"
   ]
  },
  {
   "cell_type": "code",
   "execution_count": 2,
   "metadata": {},
   "outputs": [],
   "source": [
    "def rotate(x, y, phi):\n",
    "    xr = x*np.cos(phi) + y*-np.sin(phi)\n",
    "    yr = x*np.sin(phi) + y*np.cos(phi)\n",
    "    \n",
    "    return xr, yr"
   ]
  },
  {
   "cell_type": "code",
   "execution_count": 3,
   "metadata": {},
   "outputs": [],
   "source": [
    "def plotWaves(x, y, axLim, fig, label=None):\n",
    "\n",
    "    fig = plt.figure(fig)    \n",
    "    ax = fig.add_axes((1,1,1,1), label=label)\n",
    "    ax.plot(x, y)\n",
    "#     print(type(ax))\n",
    "#    axis([-1 1 -1 1].*axLim)\n",
    "    ax.axis((-2, axLim+2, (-axLim+4)/2, (axLim+4)/2))\n",
    "    ax.grid(True)\n",
    "    ax.set_aspect('equal','box')"
   ]
  },
  {
   "cell_type": "markdown",
   "metadata": {},
   "source": [
    "![Dreieck](https://upload.wikimedia.org/wikipedia/commons/d/dd/Dreieck.svg)"
   ]
  },
  {
   "cell_type": "code",
   "execution_count": 4,
   "metadata": {},
   "outputs": [
    {
     "data": {
      "application/vnd.jupyter.widget-view+json": {
       "model_id": "5f8894138d0f4e2aabf83145402635f2",
       "version_major": 2,
       "version_minor": 0
      },
      "text/plain": [
       "HBox(children=(FloatSlider(value=2.0, continuous_update=False, description='$\\\\Delta \\\\tau:$', max=10.0, step=…"
      ]
     },
     "metadata": {},
     "output_type": "display_data"
    },
    {
     "data": {
      "application/vnd.jupyter.widget-view+json": {
       "model_id": "5c87d23e954940279e34baf9af430010",
       "version_major": 2,
       "version_minor": 0
      },
      "text/plain": [
       "Output(layout=Layout(height='350px'))"
      ]
     },
     "metadata": {},
     "output_type": "display_data"
    }
   ],
   "source": [
    "def plot_multipath_fading(d_tau, c, ratio_b_a, f):\n",
    "\n",
    "#     d_tau = 2 # s\n",
    "#     c = 10 # m\n",
    "    d_x = 1e-3 # m\n",
    "#     ratio_b_a = 1/3 #\n",
    "    v = 1 # m/s\n",
    "    amp = 0.3 # amp of waves\n",
    "\n",
    "    b = ratio_b_a*(c+v*d_tau)\n",
    "    a = (c+v*d_tau) - b\n",
    "    B_x = c\n",
    "    B_y = 0\n",
    "\n",
    "    df = 1/((a+b)/v)  \n",
    "\n",
    "    frequencies = np.arange(df/4,2,df/2)\n",
    "\n",
    "    alpha = np.arccos((b**2+c**2-a**2)/(2*b*c))\n",
    "    beta = np.arccos((a**2+c**2-b**2)/(2*a*c))\n",
    "\n",
    "    interference = np.ones_like(frequencies)\n",
    "    # index of selected frequency\n",
    "    f_idx = np.argmin(np.abs(frequencies-f))\n",
    "\n",
    "    for idx, frequency in enumerate(frequencies):\n",
    "\n",
    "        k = 2*np.pi/v*frequency # 2*pi/lambda    \n",
    "\n",
    "        tmp_b_x, tmp_b_y = rotate(np.arange(0,b,d_x), amp*np.sin(k*np.arange(0,b,d_x)), alpha)\n",
    "\n",
    "    #     plotWaves(w_b_x, w_b_y, c, 1)\n",
    "\n",
    "        C_x, C_y = rotate(b, 0, alpha);\n",
    "        tmp_a_x, tmp_a_y = rotate(np.arange(0,a,d_x), amp*np.sin(k*(np.arange(0,a,d_x)+b)), -beta)\n",
    "        tmp_a_x = tmp_a_x + C_x\n",
    "        tmp_a_y = tmp_a_y + C_y\n",
    "\n",
    "    #     plotWaves(w_a_x, w_a_y, c, 2)\n",
    "\n",
    "        tmp_c_x = np.arange(0,c,d_x)\n",
    "        tmp_c_y = amp*np.sin(k*np.arange(0,c,d_x))\n",
    "        \n",
    "        interference[idx] = amp*np.sin(k*((a+b)-d_x)) + amp*np.sin(k*(c-d_x))\n",
    "        \n",
    "        if idx == f_idx:\n",
    "            # save wave at selected frequency\n",
    "            w_a_x, w_a_y, w_b_x, w_b_y, w_c_x, w_c_y = tmp_a_x, tmp_a_y, tmp_b_x, tmp_b_y, tmp_c_x, tmp_c_y            \n",
    "\n",
    "    #     plotWaves(w_c_x, w_c_y, c, 3)\n",
    "\n",
    "\n",
    "    reflector_x, reflector_y = rotate(np.arange(-1,1.1,0.1), 0, (alpha-beta)/2)\n",
    "    reflector_x = reflector_x + C_x\n",
    "    reflector_y = reflector_y + C_y\n",
    "\n",
    "    n_row = 1\n",
    "    n_col = 2\n",
    "    fig_size = [i*j for i,j in zip(plt.rcParams['figure.figsize'], [n_col, n_row])]\n",
    "    fig = plt.figure(figsize=fig_size)\n",
    "    fig.clf()\n",
    "    ax = fig.add_subplot(1,2,1)\n",
    "    ax.plot(w_a_x,  w_a_y, 'C0')\n",
    "    ax.plot(w_b_x,  w_b_y, 'C0')\n",
    "    ax.plot(w_c_x,  w_c_y, 'C1')\n",
    "    ax.axis([-2, c+2, (-c+4)/2, (c+4)/2])    \n",
    "    plt.plot(reflector_x,  reflector_y, 'k')\n",
    "    ax.axis('off')\n",
    "    axins = inset_axes(ax, width=1.5, height=1.5)\n",
    "    axins.plot(w_a_x,  w_a_y, 'C0')\n",
    "    axins.plot(w_c_x,  w_c_y, 'C1')\n",
    "    axins.plot(np.ones(20)*B_x, np.arange(-1,1,0.1), 'k')\n",
    "    tmp_x, tmp_y = rotate(np.zeros(20), np.arange(-1,1,0.1), -beta)\n",
    "    axins.plot(tmp_x+B_x, tmp_y+B_y, 'k')\n",
    "    axins.plot(w_a_x[-1], w_a_y[-1], 'C0o', ms=10)\n",
    "    axins.plot(w_c_x[-1], w_c_y[-1], 'C1o', ms=10)\n",
    "    axins.axis([B_x-0.5, B_x+0.5, B_y-0.5, B_y+0.5])\n",
    "    axins.set_xticklabels([])\n",
    "    axins.set_yticklabels([])\n",
    "    axins.set_xticks([])\n",
    "    axins.set_yticks([])\n",
    "\n",
    "    ax = fig.add_subplot(1,2,2)\n",
    "    ax.plot(frequencies, abs(interference),ls='--', color=(0.8,0.8,0.8))\n",
    "    ax.plot(f, abs(interference[f_idx]),'C3o')\n",
    "    ax.axis([0, 2, 0, 1])\n",
    "    ax.set_xlabel('frequency / Hz')\n",
    "    ax.set_ylabel('amplitude at Rx');\n",
    "    # https://ipywidgets.readthedocs.io/en/latest/examples/Using%20Interact.html#Flickering-and-jumping-output\n",
    "    \n",
    "style = {'description_width': '30%'}\n",
    "w_d_tau = widgets.FloatSlider(min=0, max=10, step=1, value=2.0, continuous_update=False, description=r'$\\Delta \\tau:$', style=style)\n",
    "w_c = widgets.FloatSlider(min=0, max=20, step=1, value=10.0, continuous_update=False, description=r'$c:$', style=style)\n",
    "w_ratio_b_a = widgets.FloatSlider(min=0.1, max=1, step=0.1, value=0.33, continuous_update=False, description='ratio b/a:', style=style)\n",
    "w_f = widgets.FloatSlider(min=0, max=2, step=0.1, value=0.1, continuous_update=False, description=r'$f:$', style=style)\n",
    "\n",
    "def update_f_slider(*args):\n",
    "    v = 1\n",
    "    b = w_ratio_b_a.value*(w_c.value+v*w_d_tau.value)\n",
    "    a = (w_c.value+v*w_d_tau.value) - b\n",
    "    df = 1/((a+b)/v)\n",
    "    w_f.min = df/4\n",
    "    w_f.step = df/2\n",
    "    \n",
    "w_ratio_b_a.observe(update_f_slider, 'value')\n",
    "    \n",
    "ui = widgets.HBox([w_d_tau, w_c, w_ratio_b_a, w_f])\n",
    "\n",
    "out = widgets.interactive_output(plot_multipath_fading, {'d_tau':w_d_tau, 'c':w_c, 'ratio_b_a':w_ratio_b_a, 'f':w_f})\n",
    "\n",
    "out.layout.height = '350px'\n",
    "\n",
    "display(ui, out)"
   ]
  },
  {
   "cell_type": "code",
   "execution_count": null,
   "metadata": {},
   "outputs": [],
   "source": []
  }
 ],
 "metadata": {
  "kernelspec": {
   "display_name": "Python 3",
   "language": "python",
   "name": "python3"
  },
  "language_info": {
   "codemirror_mode": {
    "name": "ipython",
    "version": 3
   },
   "file_extension": ".py",
   "mimetype": "text/x-python",
   "name": "python",
   "nbconvert_exporter": "python",
   "pygments_lexer": "ipython3",
   "version": "3.7.3"
  }
 },
 "nbformat": 4,
 "nbformat_minor": 2
}
